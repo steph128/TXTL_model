{
 "cells": [
  {
   "cell_type": "markdown",
   "metadata": {},
   "source": [
    "## Quantitative modelling of TXTL- E.coli and reporter gene "
   ]
  },
  {
   "cell_type": "markdown",
   "metadata": {},
   "source": [
    "https://www.nature.com/articles/s41598-019-48468-8#Sec10\n",
    "https://static-content.springer.com/esm/art%3A10.1038%2Fs41598-019-48468-8/MediaObjects/41598_2019_48468_MOESM1_ESM.pdf"
   ]
  },
  {
   "cell_type": "code",
   "execution_count": 1,
   "metadata": {},
   "outputs": [],
   "source": [
    "import sympy\n",
    "from sympy import symbols, Eq, solve\n",
    "import matplotlib.pyplot as plt\n",
    "import seaborn as sn"
   ]
  },
  {
   "cell_type": "markdown",
   "metadata": {},
   "source": [
    "Model the rate of protein synthesis with assumptions of quasi steady state for 3 MM constants - KM, 70 (mRNA transcription), KM, m (RNA degradation), K M,R (protein translation) and conservation laws for total RNA polymerase (free, bound with sigma 70 factor and transcription on mRNA) and total ribosome concentration (free and performing translation on mRNA)"
   ]
  },
  {
   "cell_type": "code",
   "execution_count": 2,
   "metadata": {},
   "outputs": [],
   "source": [
    "# biochemical constants that best fit the data (deGFP vs plasmid)\n",
    "kcat_m = 0.065 # P70 transcription rate \n",
    "KM_70 = 1 # MM constant for mRNA transcription\n",
    "k70 = 0.26 # dissociation constant sigma70 and RNA poly.\n",
    "S70 = 30 # total concentration of Sigma70 \n",
    "kd_m = 6.6 # mRNA degradation\n",
    "KM_m = 8000 # MM constant for RNA degradation\n",
    "Etot = 400 # total concentration of active RNA poly.\n",
    "Cm = 10 # rate of transcription\n",
    "Lm = 800 # length of mRNA \n",
    "Kcat_p = 0.006 \n",
    "KM_R = 10 # MM constant for translation\n",
    "kmat = 0.000725 # Rate of protein maturation\n",
    "Rtot = 1100 # total concentration of ribosome\n",
    "Cp = 2.5 # rate of translation "
   ]
  },
  {
   "cell_type": "code",
   "execution_count": 3,
   "metadata": {},
   "outputs": [],
   "source": [
    "# different conc. of promoter specific to sigma 70\n",
    "P70 = [0,0.1,0.2,0.5,1,2.5,5,7.5,10,15,20,30] # only P70a "
   ]
  },
  {
   "cell_type": "code",
   "execution_count": 4,
   "metadata": {},
   "outputs": [],
   "source": [
    "# mRNA concentration steady state \n",
    "m_SS = [] \n",
    "for i in range(len(P70)):\n",
    "    m_SS.append((kcat_m/kd_m)*P70[i]) \n",
    "#problem is that this is only steady state so can only be applied for second phase "
   ]
  },
  {
   "cell_type": "code",
   "execution_count": 5,
   "metadata": {},
   "outputs": [
    {
     "data": {
      "text/plain": [
       "[0.0,\n",
       " 0.000984848484848485,\n",
       " 0.00196969696969697,\n",
       " 0.004924242424242425,\n",
       " 0.00984848484848485,\n",
       " 0.024621212121212124,\n",
       " 0.04924242424242425,\n",
       " 0.07386363636363637,\n",
       " 0.0984848484848485,\n",
       " 0.14772727272727273,\n",
       " 0.196969696969697,\n",
       " 0.29545454545454547]"
      ]
     },
     "execution_count": 5,
     "metadata": {},
     "output_type": "execute_result"
    }
   ],
   "source": [
    "m_SS"
   ]
  },
  {
   "cell_type": "code",
   "execution_count": 6,
   "metadata": {},
   "outputs": [
    {
     "name": "stderr",
     "output_type": "stream",
     "text": [
      "C:\\Users\\szest\\anaconda3\\lib\\site-packages\\sympy\\core\\relational.py:486: SymPyDeprecationWarning: \n",
      "\n",
      "Eq(expr) with rhs default to 0 has been deprecated since SymPy 1.5.\n",
      "Use Eq(expr, 0) instead. See\n",
      "https://github.com/sympy/sympy/issues/16587 for more info.\n",
      "\n",
      "  SymPyDeprecationWarning(\n"
     ]
    }
   ],
   "source": [
    "# solve for E0 and R0 from Etotal and Rtotal for conservation law of total ribosome (R0, Rm) and RNA poly (E0,S70,Em)\n",
    "sol_E0_list, sol_R0_list = [],[]\n",
    "final_val = {}\n",
    "for i in range(len(P70)):\n",
    "    E0 = symbols(\"E0\")\n",
    "    eq1 = Eq(E0 +E0*S70/(k70+E0)+E0*S70*P70[i]/(E0*S70+KM_70*(k70+E0))*(1+kcat_m*(Lm/Cm))-Etot)\n",
    "    sol = solve(eq1)\n",
    "    sol_E0 = int(sol[-1])\n",
    "    sol_E0_list.append(sol_E0)\n",
    "    \n",
    "    R0 = symbols(\"R0\")\n",
    "    eq2 = Eq(R0+(R0*m_SS[i]/KM_R+R0)*(1+Kcat_p*(Lm/Cp))-Rtot)\n",
    "    sol_R0 = int(solve(eq2)[0])\n",
    "    sol_R0_list.append(sol_R0)\n",
    "    \n",
    "    final_val[P70[i]]=sol_E0,sol_R0"
   ]
  },
  {
   "cell_type": "code",
   "execution_count": 7,
   "metadata": {},
   "outputs": [
    {
     "data": {
      "text/plain": [
       "{0: (370, 280),\n",
       " 0.1: (369, 280),\n",
       " 0.2: (368, 280),\n",
       " 0.5: (367, 280),\n",
       " 1: (364, 280),\n",
       " 2.5: (355, 280),\n",
       " 5: (340, 279),\n",
       " 7.5: (325, 279),\n",
       " 10: (310, 278),\n",
       " 15: (280, 277),\n",
       " 20: (250, 276),\n",
       " 30: (190, 274)}"
      ]
     },
     "execution_count": 7,
     "metadata": {},
     "output_type": "execute_result"
    }
   ],
   "source": [
    "final_val"
   ]
  },
  {
   "cell_type": "code",
   "execution_count": 8,
   "metadata": {},
   "outputs": [],
   "source": [
    "deGFPdark = []\n",
    "# for low plasmic concentrations- lower than 1\n",
    "for i in range(len(P70[:4])):\n",
    "    deGFPdark.append((Kcat_p*kcat_m/kd_m)*P70[i])\n",
    "# for steady state so >1 plasmid concentration\n",
    "for i in range(len(P70[4:])):\n",
    "    deGFPdark.append((Kcat_p/kmat)*m_SS[i+4]*(1/(1+KM_R/sol_R0_list[i+4])))"
   ]
  },
  {
   "cell_type": "code",
   "execution_count": 9,
   "metadata": {},
   "outputs": [
    {
     "data": {
      "text/plain": [
       "[0.0,\n",
       " 5.909090909090911e-06,\n",
       " 1.1818181818181822e-05,\n",
       " 2.9545454545454552e-05,\n",
       " 0.07869419522213815,\n",
       " 0.19673548805534538,\n",
       " 0.3934223514225902,\n",
       " 0.5901335271338852,\n",
       " 0.7867467781260886,\n",
       " 1.17997225650716,\n",
       " 1.5730977486463384,\n",
       " 2.359044549428231]"
      ]
     },
     "execution_count": 9,
     "metadata": {},
     "output_type": "execute_result"
    }
   ],
   "source": [
    "deGFPdark"
   ]
  },
  {
   "cell_type": "code",
   "execution_count": 10,
   "metadata": {},
   "outputs": [],
   "source": [
    "dm,ddeGFPdark,ddeGFPmat = [],[],[]\n",
    "\n",
    "for i in range(len(P70)):\n",
    "    dm.append(kcat_m*P70[i]*((sol_E0_list[i]*S70)/KM_70*(k70+sol_E0_list[i])+sol_E0_list[i]*S70)-kd_m*(m_SS[i]/KM_m+m_SS[i]))\n",
    "    ddeGFPdark.append(Kcat_p*m_SS[i]*sol_R0_list[i]/(KM_R+sol_R0_list[i])-kmat*deGFPdark[i])\n",
    "    ddeGFPmat.append(kmat*deGFPdark[i])"
   ]
  },
  {
   "cell_type": "code",
   "execution_count": 11,
   "metadata": {},
   "outputs": [
    {
     "data": {
      "text/plain": [
       "[0.0,\n",
       " 26642.051799187502,\n",
       " 52996.182198375005,\n",
       " 131772.60199593753,\n",
       " 259261.48299187497,\n",
       " 616552.2999796876,\n",
       " 1131276.5749593752,\n",
       " 1550754.0749390628,\n",
       " 1881566.04991875,\n",
       " 2303518.4248781255,\n",
       " 2449783.6998375,\n",
       " 2125852.9497562503]"
      ]
     },
     "execution_count": 11,
     "metadata": {},
     "output_type": "execute_result"
    }
   ],
   "source": [
    "dm"
   ]
  },
  {
   "cell_type": "code",
   "execution_count": 247,
   "metadata": {},
   "outputs": [
    {
     "data": {
      "text/plain": [
       "[<matplotlib.lines.Line2D at 0x17c8ecc8ee0>]"
      ]
     },
     "execution_count": 247,
     "metadata": {},
     "output_type": "execute_result"
    },
    {
     "data": {
      "image/png": "[encoded data removed]",
      "text/plain": [
       "<Figure size 432x288 with 1 Axes>"
      ]
     },
     "metadata": {
      "needs_background": "light"
     },
     "output_type": "display_data"
    }
   ],
   "source": [
    "plt.plot(P70,deGFPdark)"
   ]
  },
  {
   "cell_type": "code",
   "execution_count": 250,
   "metadata": {},
   "outputs": [
    {
     "data": {
      "text/plain": [
       "[<matplotlib.lines.Line2D at 0x17cf2b3bfd0>]"
      ]
     },
     "execution_count": 250,
     "metadata": {},
     "output_type": "execute_result"
    },
    {
     "data": {
      "image/png": "[encoded data removed]",
      "text/plain": [
       "<Figure size 432x288 with 1 Axes>"
      ]
     },
     "metadata": {
      "needs_background": "light"
     },
     "output_type": "display_data"
    }
   ],
   "source": [
    "plt.plot(P70,dm)"
   ]
  },
  {
   "cell_type": "code",
   "execution_count": 249,
   "metadata": {},
   "outputs": [
    {
     "data": {
      "text/plain": [
       "[<matplotlib.lines.Line2D at 0x17c8d43ad30>]"
      ]
     },
     "execution_count": 249,
     "metadata": {},
     "output_type": "execute_result"
    },
    {
     "data": {
      "image/png": "[encoded data removed]",
      "text/plain": [
       "<Figure size 432x288 with 1 Axes>"
      ]
     },
     "metadata": {
      "needs_background": "light"
     },
     "output_type": "display_data"
    }
   ],
   "source": [
    "plt.plot(P70,deGFPmat)"
   ]
  },
  {
   "cell_type": "code",
   "execution_count": null,
   "metadata": {},
   "outputs": [],
   "source": []
  }
 ],
 "metadata": {
  "kernelspec": {
   "display_name": "Python 3",
   "language": "python",
   "name": "python3"
  },
  "language_info": {
   "codemirror_mode": {
    "name": "ipython",
    "version": 3
   },
   "file_extension": ".py",
   "mimetype": "text/x-python",
   "name": "python",
   "nbconvert_exporter": "python",
   "pygments_lexer": "ipython3",
   "version": "3.8.3"
  }
 },
 "nbformat": 4,
 "nbformat_minor": 4
}

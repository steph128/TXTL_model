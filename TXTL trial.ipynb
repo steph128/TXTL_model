{
 "cells": [
  {
   "cell_type": "markdown",
   "metadata": {},
   "source": [
    "## Quantitative modelling of TXTL- E.coli and reporter gene "
   ]
  },
  {
   "cell_type": "markdown",
   "metadata": {},
   "source": [
    "https://www.nature.com/articles/s41598-019-48468-8#Sec10\n",
    "https://static-content.springer.com/esm/art%3A10.1038%2Fs41598-019-48468-8/MediaObjects/41598_2019_48468_MOESM1_ESM.pdf"
   ]
  },
  {
   "cell_type": "code",
   "execution_count": 2,
   "metadata": {},
   "outputs": [],
   "source": [
    "import sympy\n",
    "from sympy import symbols, Eq, solve\n",
    "import matplotlib.pyplot as plt\n",
    "import seaborn as sn\n",
    "import numpy as np"
   ]
  },
  {
   "cell_type": "markdown",
   "metadata": {},
   "source": [
    "Model the rate of protein synthesis with assumptions of quasi steady state for 3 MM constants - KM, 70 (mRNA transcription), KM, m (RNA degradation), K M,R (protein translation) and conservation laws for total RNA polymerase (free, bound with sigma 70 factor and transcription on mRNA) and total ribosome concentration (free and performing translation on mRNA)"
   ]
  },
  {
   "cell_type": "code",
   "execution_count": 13,
   "metadata": {},
   "outputs": [],
   "source": [
    "# biochemical constants that best fit the data (deGFP vs plasmid)\n",
    "kcat_m = 0.065 # P70 transcription rate \n",
    "KM_70 = 1 # MM constant for mRNA transcription\n",
    "k70 = 0.26 # dissociation constant sigma70 and RNA poly.\n",
    "S70 = 30 # total concentration of Sigma70 \n",
    "kd_m = 6.6 # mRNA degradation\n",
    "KM_m = 8000 # MM constant for RNA degradation\n",
    "Etot = 400 # total concentration of active RNA poly.\n",
    "Cm = 10 # rate of transcription (bp/s)\n",
    "Lm = 800 # length of mRNA \n",
    "Kcat_p = 0.006 \n",
    "KM_R = 10 # MM constant for translation\n",
    "kmat = 0.000725 # Rate of protein maturation\n",
    "Rtot = 1100 # total concentration of ribosome\n",
    "Cp = 2.5 # rate of translation (bp/s)"
   ]
  },
  {
   "cell_type": "code",
   "execution_count": 14,
   "metadata": {},
   "outputs": [],
   "source": [
    "# different conc. of promoter specific to sigma 70\n",
    "P70 = [0,0.1,0.2,0.5,1,2.5,5,7.5,10,15,20,30] # only P70a "
   ]
  },
  {
   "cell_type": "code",
   "execution_count": 15,
   "metadata": {},
   "outputs": [],
   "source": [
    "# mRNA concentration steady state (constant)\n",
    "m_SS = [] \n",
    "for i in range(len(P70)):\n",
    "    m_SS.append((kcat_m/kd_m)*P70[i]) "
   ]
  },
  {
   "cell_type": "code",
   "execution_count": 16,
   "metadata": {},
   "outputs": [
    {
     "data": {
      "text/plain": [
       "[0.0,\n",
       " 0.04545454545454546,\n",
       " 0.09090909090909093,\n",
       " 0.2272727272727273,\n",
       " 0.4545454545454546,\n",
       " 1.1363636363636365,\n",
       " 2.272727272727273,\n",
       " 3.409090909090909,\n",
       " 4.545454545454546,\n",
       " 6.818181818181818,\n",
       " 9.090909090909092,\n",
       " 13.636363636363637]"
      ]
     },
     "execution_count": 16,
     "metadata": {},
     "output_type": "execute_result"
    }
   ],
   "source": [
    "m_SS"
   ]
  },
  {
   "cell_type": "code",
   "execution_count": 17,
   "metadata": {},
   "outputs": [
    {
     "name": "stderr",
     "output_type": "stream",
     "text": [
      "C:\\Users\\szest\\anaconda3\\lib\\site-packages\\sympy\\core\\relational.py:486: SymPyDeprecationWarning: \n",
      "\n",
      "Eq(expr) with rhs default to 0 has been deprecated since SymPy 1.5.\n",
      "Use Eq(expr, 0) instead. See\n",
      "https://github.com/sympy/sympy/issues/16587 for more info.\n",
      "\n",
      "  SymPyDeprecationWarning(\n"
     ]
    }
   ],
   "source": [
    "# solve for E0 and R0 from Etotal and Rtotal from conservation law of total ribosome (R0, Rm) and RNA poly (E0,S70,Em)\n",
    "sol_E0_list, sol_R0_list = [],[]\n",
    "final_val = {}\n",
    "for i in range(len(P70)):\n",
    "    E0 = symbols(\"E0\")\n",
    "    eq1 = Eq(E0 +E0*S70/(k70+E0)+E0*S70*P70[i]/(E0*S70+KM_70*(k70+E0))*(1+kcat_m*(Lm/Cm))-Etot)\n",
    "    sol = solve(eq1)\n",
    "    sol_E0 = int(sol[-1])\n",
    "    sol_E0_list.append(sol_E0)\n",
    "    \n",
    "    R0 = symbols(\"R0\")\n",
    "    eq2 = Eq(R0+(R0*m_SS[i]/KM_R+R0)*(1+Kcat_p*(Lm/Cp))-Rtot)\n",
    "    sol_R0 = int(solve(eq2)[0])\n",
    "    sol_R0_list.append(sol_R0)\n",
    "    \n",
    "    final_val[P70[i]]=sol_E0,sol_R0"
   ]
  },
  {
   "cell_type": "code",
   "execution_count": 18,
   "metadata": {},
   "outputs": [
    {
     "data": {
      "text/plain": [
       "{0: (370, 280),\n",
       " 0.1: (346, 279),\n",
       " 0.2: (323, 278),\n",
       " 0.5: (253, 275),\n",
       " 1: (136, 271),\n",
       " 2.5: (0, 258),\n",
       " 5: (0, 239),\n",
       " 7.5: (0, 223),\n",
       " 10: (0, 209),\n",
       " 15: (0, 186),\n",
       " 20: (0, 167),\n",
       " 30: (0, 139)}"
      ]
     },
     "execution_count": 18,
     "metadata": {},
     "output_type": "execute_result"
    }
   ],
   "source": [
    "final_val"
   ]
  },
  {
   "cell_type": "code",
   "execution_count": 19,
   "metadata": {},
   "outputs": [],
   "source": [
    "# deGFP dark concentration for low and high plasmid concentration\n",
    "deGFPdark = []\n",
    "# for low plasmid concentrations- lower than 1\n",
    "for i in range(len(P70[:4])):\n",
    "    deGFPdark.append((Kcat_p*kcat_m/kd_m)*P70[i])\n",
    "# for steady state so >1 plasmid concentration\n",
    "for i in range(len(P70[4:])):\n",
    "    deGFPdark.append((Kcat_p/kmat)*m_SS[i+4]*(1/(1+KM_R/sol_R0_list[i+4])))"
   ]
  },
  {
   "cell_type": "code",
   "execution_count": 20,
   "metadata": {},
   "outputs": [
    {
     "data": {
      "text/plain": [
       "[0.0,\n",
       " 0.0002727272727272728,\n",
       " 0.0005454545454545456,\n",
       " 0.001363636363636364,\n",
       " 3.627885183904328,\n",
       " 9.05347868806438,\n",
       " 18.053404841938292,\n",
       " 27.002300644449534,\n",
       " 35.89985829003307,\n",
       " 53.547437783891,\n",
       " 70.98453854736732,\n",
       " 105.27866024278893]"
      ]
     },
     "execution_count": 20,
     "metadata": {},
     "output_type": "execute_result"
    }
   ],
   "source": [
    "deGFPdark"
   ]
  },
  {
   "cell_type": "code",
   "execution_count": 21,
   "metadata": {},
   "outputs": [],
   "source": [
    "t = np.linspace(0,14400,28000)"
   ]
  },
  {
   "cell_type": "code",
   "execution_count": 22,
   "metadata": {},
   "outputs": [],
   "source": [
    "#deGFP mat concentration at low plasmid concentration\n",
    "deGFPmat_low = []\n",
    "for i in range(len(t)):\n",
    "    deGFPmat_low.append((Kcat_p*kcat_m*t[i]*0.2))"
   ]
  },
  {
   "cell_type": "code",
   "execution_count": 23,
   "metadata": {},
   "outputs": [
    {
     "data": {
      "text/plain": [
       "Text(0.5, 1.0, 'Concentration of deGFP vs time with plasmid concentration = 5')"
      ]
     },
     "execution_count": 23,
     "metadata": {},
     "output_type": "execute_result"
    },
    {
     "data": {
      "image/png": "[encoded data removed]",
      "text/plain": [
       "<Figure size 432x288 with 1 Axes>"
      ]
     },
     "metadata": {
      "needs_background": "light"
     },
     "output_type": "display_data"
    }
   ],
   "source": [
    "plt.plot(t,deGFPmat_low)\n",
    "plt.xlabel(\"Time (seconds)\")\n",
    "plt.ylabel(\"deGFP [$\\mu$M]\")\n",
    "plt.title(\"Concentration of deGFP vs time with plasmid concentration = 5\")\n"
   ]
  },
  {
   "cell_type": "code",
   "execution_count": 24,
   "metadata": {},
   "outputs": [],
   "source": [
    "#not entirely sure if this is deGFPmat concentration at high plasmic conc \n",
    "# for 5 plasmid conc\n",
    "deGFPmat_high = []\n",
    "for i in range(len(t)):\n",
    "    deGFPmat_high.append((Kcat_p*m_SS[6])*t[i]/(1+KM_R/sol_R0_list[6]))"
   ]
  },
  {
   "cell_type": "code",
   "execution_count": 25,
   "metadata": {},
   "outputs": [
    {
     "data": {
      "text/plain": [
       "Text(0.5, 1.0, 'Concentration of deGFP vs time with plasmid concentration = 5')"
      ]
     },
     "execution_count": 25,
     "metadata": {},
     "output_type": "execute_result"
    },
    {
     "data": {
      "image/png": "[encoded data removed]",
      "text/plain": [
       "<Figure size 432x288 with 1 Axes>"
      ]
     },
     "metadata": {
      "needs_background": "light"
     },
     "output_type": "display_data"
    }
   ],
   "source": [
    "plt.plot(t,deGFPmat_high)\n",
    "plt.xlabel(\"Time (seconds)\")\n",
    "plt.ylabel(\"deGFP [$\\mu$M]\")\n",
    "plt.title(\"Concentration of deGFP vs time with plasmid concentration = 5\")\n"
   ]
  },
  {
   "cell_type": "code",
   "execution_count": 26,
   "metadata": {},
   "outputs": [],
   "source": [
    "# Maximum rate of mRNA and deGFPdark and deGFPmat\n",
    "dm,ddeGFPdark,ddeGFPmat = [],[],[]\n",
    "\n",
    "for i in range(len(P70)):\n",
    "    dm.append(kcat_m*P70[i]*((sol_E0_list[i]*S70)/KM_70*(k70+sol_E0_list[i])+sol_E0_list[i]*S70)-kd_m*(m_SS[i]/KM_m+m_SS[i]))\n",
    "    ddeGFPdark.append(Kcat_p*m_SS[i]*sol_R0_list[i]/(KM_R+sol_R0_list[i])-kmat*deGFPdark[i])\n",
    "    ddeGFPmat.append(kmat*deGFPdark[i])"
   ]
  },
  {
   "cell_type": "code",
   "execution_count": 27,
   "metadata": {},
   "outputs": [
    {
     "data": {
      "text/plain": [
       "[<matplotlib.lines.Line2D at 0x15a25f576a0>]"
      ]
     },
     "execution_count": 27,
     "metadata": {},
     "output_type": "execute_result"
    },
    {
     "data": {
      "image/png": "[encoded data removed]",
      "text/plain": [
       "<Figure size 432x288 with 1 Axes>"
      ]
     },
     "metadata": {
      "needs_background": "light"
     },
     "output_type": "display_data"
    }
   ],
   "source": [
    "plt.plot(P70,dm)"
   ]
  },
  {
   "cell_type": "code",
   "execution_count": 28,
   "metadata": {},
   "outputs": [
    {
     "ename": "NameError",
     "evalue": "name 'deGFPmat' is not defined",
     "output_type": "error",
     "traceback": [
      "\u001b[1;31m---------------------------------------------------------------------------\u001b[0m",
      "\u001b[1;31mNameError\u001b[0m                                 Traceback (most recent call last)",
      "\u001b[1;32m<ipython-input-28-3287921ad7a6>\u001b[0m in \u001b[0;36m<module>\u001b[1;34m\u001b[0m\n\u001b[1;32m----> 1\u001b[1;33m \u001b[0mplt\u001b[0m\u001b[1;33m.\u001b[0m\u001b[0mplot\u001b[0m\u001b[1;33m(\u001b[0m\u001b[0mP70\u001b[0m\u001b[1;33m,\u001b[0m\u001b[0mdeGFPmat\u001b[0m\u001b[1;33m)\u001b[0m\u001b[1;33m\u001b[0m\u001b[1;33m\u001b[0m\u001b[0m\n\u001b[0m",
      "\u001b[1;31mNameError\u001b[0m: name 'deGFPmat' is not defined"
     ]
    }
   ],
   "source": [
    "plt.plot(P70,deGFPmat)"
   ]
  },
  {
   "cell_type": "code",
   "execution_count": null,
   "metadata": {},
   "outputs": [],
   "source": []
  }
 ],
 "metadata": {
  "kernelspec": {
   "display_name": "Python 3",
   "language": "python",
   "name": "python3"
  },
  "language_info": {
   "codemirror_mode": {
    "name": "ipython",
    "version": 3
   },
   "file_extension": ".py",
   "mimetype": "text/x-python",
   "name": "python",
   "nbconvert_exporter": "python",
   "pygments_lexer": "ipython3",
   "version": "3.8.3"
  }
 },
 "nbformat": 4,
 "nbformat_minor": 4
}
